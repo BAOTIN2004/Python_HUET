{
  "nbformat": 4,
  "nbformat_minor": 0,
  "metadata": {
    "colab": {
      "provenance": [],
      "authorship_tag": "ABX9TyP2lY4baV9B6z+ZlTMWhhd3",
      "include_colab_link": true
    },
    "kernelspec": {
      "name": "python3",
      "display_name": "Python 3"
    },
    "language_info": {
      "name": "python"
    }
  },
  "cells": [
    {
      "cell_type": "markdown",
      "metadata": {
        "id": "view-in-github",
        "colab_type": "text"
      },
      "source": [
        "<a href=\"https://colab.research.google.com/github/BAOTIN2004/Python_HUET/blob/main/sapxep.ipynb\" target=\"_parent\"><img src=\"https://colab.research.google.com/assets/colab-badge.svg\" alt=\"Open In Colab\"/></a>"
      ]
    },
    {
      "cell_type": "code",
      "execution_count": 1,
      "metadata": {
        "colab": {
          "base_uri": "https://localhost:8080/"
        },
        "id": "qPo122rysPfq",
        "outputId": "657e1051-e593-4d17-faa9-267ab07e3cfd"
      },
      "outputs": [
        {
          "output_type": "stream",
          "name": "stdout",
          "text": [
            "Nhap so phan tu 6\n",
            "list x [-1.236235965703818, -5.494163162549639, -3.21421093665212, 2.290439533021848, -8.507216258315506, 1.2517369639245572]\n",
            "Sinh ngau nhien vec to u: [-5, 2, 9, 8, -6, -1]\n",
            "Ket qua sap xep  tang dan list x [-8.507216258315506, -5.494163162549639, -3.21421093665212, -1.236235965703818, 1.2517369639245572, 2.290439533021848]\n",
            "Sap xep giam dan [7, 6, 5, 4, 1]\n",
            "Sap xep tang dan [1, 4, 5, 6, 7]\n",
            "sap xep [6, 5, 3, 2, 1]\n"
          ]
        }
      ],
      "source": [
        "n=int(input('Nhap so phan tu '))\n",
        "import random\n",
        "x=[random.uniform(-10,10) for i in range(0,n)]\n",
        "print('list x',x)\n",
        "\n",
        "def sinh_vecto_ngau_nhien(n):\n",
        "    u=[random.randint(-10,10) for i in range(0,n)]\n",
        "    return u\n",
        "q=sinh_vecto_ngau_nhien(6)\n",
        "print('Sinh ngau nhien vec to u:',q)\n",
        "\n",
        "for i in range(len(x)-1):\n",
        "    for j in range(i+1,len(x)):\n",
        "        if x[i]>x[j]:\n",
        "            x[i],x[j]=x[j],x[i]\n",
        "print('Ket qua sap xep  tang dan list x',x)\n",
        "\n",
        "def sap_xep_tang_dan(a):\n",
        "    a1=a.copy()\n",
        "    for i in range(len(a)-1):\n",
        "        for j in range(i+1,len(a)):\n",
        "            if a1[i]>a1[j]:\n",
        "                a1[i],a1[j]=a1[j],a1[i]\n",
        "    return a1\n",
        "    \n",
        "def sap_xep_giam_dan(v):\n",
        "    v1=v.copy()\n",
        "    for i in range(len(v)-1):\n",
        "        for j in range(i+1,len(v)):\n",
        "            if v1[j]>v1[i]:\n",
        "                v1[i],v1[j]=v1[j],v1[i]\n",
        "    return v1\n",
        "\n",
        "y=sap_xep_giam_dan(v=[1,6,5,4,7])\n",
        "z=sap_xep_tang_dan(a=[1,6,5,4,7])\n",
        "print('Sap xep giam dan',y)\n",
        "print('Sap xep tang dan',z)\n",
        "\n",
        "def sap_xep(v,flag):\n",
        "    v1=v.copy()\n",
        "    if flag==True:\n",
        "        print('sap xep tang dan')\n",
        "        for i in range(len(v)-1):\n",
        "            for j in range(i+1,len(v)):\n",
        "                if v1[i]>v1[j]:\n",
        "                    v1[i],v1[j]=v1[j],v1[j]\n",
        "        return v1\n",
        "    if flag==False:\n",
        "        for i in range(len(v)-1):\n",
        "            for j in range(i+1,len(v)):\n",
        "                if v1[i]<v1[j]:\n",
        "                    v1[i],v1[j]=v1[j],v1[i]\n",
        "        return v1\n",
        "t=sap_xep([2,5,1,3,6],False)\n",
        "print('sap xep',t)\n"
      ]
    }
  ]
}