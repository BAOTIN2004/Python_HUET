{
  "nbformat": 4,
  "nbformat_minor": 0,
  "metadata": {
    "colab": {
      "provenance": [],
      "authorship_tag": "ABX9TyMoH1DWwtaRjWqotD9s+Ici",
      "include_colab_link": true
    },
    "kernelspec": {
      "name": "python3",
      "display_name": "Python 3"
    },
    "language_info": {
      "name": "python"
    }
  },
  "cells": [
    {
      "cell_type": "markdown",
      "metadata": {
        "id": "view-in-github",
        "colab_type": "text"
      },
      "source": [
        "<a href=\"https://colab.research.google.com/github/BAOTIN2004/Python_HUET/blob/main/VECTOR_MATRIX.ipynb\" target=\"_parent\"><img src=\"https://colab.research.google.com/assets/colab-badge.svg\" alt=\"Open In Colab\"/></a>"
      ]
    },
    {
      "cell_type": "code",
      "execution_count": 2,
      "metadata": {
        "colab": {
          "base_uri": "https://localhost:8080/"
        },
        "id": "3TOk-RzrVCMm",
        "outputId": "cbb765c6-2e2c-4633-ad00-3d5426e81d9b"
      },
      "outputs": [
        {
          "output_type": "stream",
          "name": "stdout",
          "text": [
            "So phan tu cua vector x: 7\n",
            "Ket qua bai 1:\n",
            "3\n",
            "6\n",
            "4\n",
            "9\n",
            "6\n",
            "3\n",
            "2\n",
            "Vector x: [3, 6, 4, 9, 6, 3, 2]\n",
            "Ket qua bai 2: \n",
            " Vec to x = [6, 3, 5, 2, -10, -8, 1, -9, -3, -1, 7, 5, 0, 1, 6, 3, -4, 10, -1, 10, -8, -3, -6, -3, -8, -3, -2, 10, -3, 5]\n",
            "Ket qua bai 3: [-1.732523779126216, 3.995784275273201, -5.220518489739742, 0.9530225075985657, -4.216740358744618, 0.4060722993236521, -4.034924854120298, 3.8723698737875507, 5.378159273027847, 0.41910458348968405, 3.743512796543114, 5.091794843685247, 6.011237103109013, 3.7927722832895983, 3.502273003700199, -1.965351297871102, -3.1894635146617647, -1.836702331419462, 1.6684032449950248, 6.330042886471772, 3.0841084144044517, 5.2982877851501184, 5.959594211936889, 5.322908212359308, 1.177525041722558, 1.7119209264987774, -3.4418841182650124, -1.9217254472482774, -4.763652978068079, -4.2664621397020825]\n",
            "Ket qua bai 4:\n",
            " [-16  -8 -20   4   4  -4  20  16  16  20]\n",
            "Ket qua bai 5:\n",
            " [ 1 -2 -6  5 -1 -4  0  9  4  3  3 -1  3  3 -9] \n",
            " [-9  6  2  3 -9 -6  2 -1 -4  3  3 -1 -3 -5 -1]\n",
            "Ket qua bai 6:\n",
            " [  0 -25  -4   0  -4   6   5   3   0   0]\n",
            "Ket qua bai 7:\n",
            " -14\n",
            "Ket qua bai 8:\n",
            " [[ 1  4  1  0 -4]\n",
            " [-4 -3 -4 -4 -2]\n",
            " [-2  4 -3 -1  1]] \n",
            " -4\n",
            "Ket qua bai 9;\n",
            " [[ -4  -4   8  -8 -10]\n",
            " [ -4  -8  -2   6   8]\n",
            " [  8   4  10  -4  -8]]\n",
            "Ket qua bai 10:\n",
            " [[ 0  3  5 10  0]\n",
            " [ 3  0  1 -4  3]\n",
            " [-8  6 -1  1  2]]\n",
            "Ket qua bai 11:\n",
            " [[-17  36   5 -39   7]\n",
            " [ 10   9 -31 -13 -29]\n",
            " [-16 -12  11  25   7]]\n"
          ]
        }
      ],
      "source": [
        "from numpy import random \n",
        "import numpy as np \n",
        "\n",
        "def bai_1(n):\n",
        "    x=[]\n",
        "    print('So phan tu cua vector x:',n)\n",
        "    print(\"Ket qua bai 1:\")\n",
        "    for i in range(n):\n",
        "        x.append(int(input()))  \n",
        "    print('Vector x:',x)\n",
        "\n",
        "def bai_2(n):\n",
        "    x=[random.randint(-10,11) for i in range(n)]\n",
        "    print('Ket qua bai 2: \\n Vec to x =',x)\n",
        "\n",
        "def bai_3(n):\n",
        "    x=[random.uniform(-5.7,6.9) for i in range(n)]\n",
        "    print('Ket qua bai 3:',x)\n",
        "\n",
        "def bai_4(n,a):\n",
        "    x=np.random.randint(low=-5,high=6,size=n)\n",
        "    print('Ket qua bai 4:\\n',a*x)\n",
        "\n",
        "def bai_5(n):\n",
        "    x=np.random.randint(low=-5,high=6,size=n)\n",
        "    y=np.random.randint(low=-5,high=6,size=n)\n",
        "    print('Ket qua bai 5:\\n',x+y,'\\n',x-y)\n",
        "\n",
        "def bai_6(n):\n",
        "    x=np.random.randint(low=-5,high=6,size=n)\n",
        "    y=np.random.randint(low=-5,high=6,size=n)\n",
        "    z=np.multiply(x,y)\n",
        "    print('Ket qua bai 6:\\n',z) \n",
        "\n",
        "def bai_7(n):\n",
        "    x=np.random.randint(low=-5,high=6,size=n)\n",
        "    y=np.random.randint(low=-5,high=6,size=n)\n",
        "    print('Ket qua bai 7:\\n',  np.dot(x,y))\n",
        "\n",
        "def bai_8(m,n):\n",
        "    A=np.random.randint(low=-5,high=6,size=(m,n))\n",
        "    print('Ket qua bai 8:\\n',A,'\\n',A[1][2])\n",
        "\n",
        "def bai_9(a,m,n):\n",
        "    A=np.random.randint(low=-5,high=6,size=(m,n))\n",
        "    print('Ket qua bai 9;\\n', A*a)\n",
        "    \n",
        "def bai_10(m,n):\n",
        "    A=np.random.randint(low=-5,high=6,size=(m,n))\n",
        "    B=np.random.randint(low=-5,high=6,size=(m,n))\n",
        "    print('Ket qua bai 10:\\n',  A+B)\n",
        "\n",
        "def bai_11(m,n,p,q):\n",
        "    A=np.random.randint(low=-5,high=6,size=(m,n))\n",
        "    B=np.random.randint(low=-5,high=6,size=(p,q))\n",
        "    print('Ket qua bai 11:\\n',A@B)\n",
        "\n",
        "def main():\n",
        "    bai_1(7)\n",
        "    bai_2(30)\n",
        "    bai_3(30)\n",
        "    bai_4(10,4)\n",
        "    bai_5(15)\n",
        "    bai_6(10)\n",
        "    bai_7(10)\n",
        "    bai_8(3,5)\n",
        "    bai_9(2,3,5)\n",
        "    bai_10(3,5)\n",
        "    bai_11(3,4,4,5)\n",
        "if __name__==\"__main__\":\n",
        "    main()"
      ]
    }
  ]
}