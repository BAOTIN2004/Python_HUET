{
  "nbformat": 4,
  "nbformat_minor": 0,
  "metadata": {
    "colab": {
      "provenance": [],
      "collapsed_sections": [],
      "authorship_tag": "ABX9TyMUu8RCpPCM6ezTm8m6JZIf",
      "include_colab_link": true
    },
    "kernelspec": {
      "name": "python3",
      "display_name": "Python 3"
    },
    "language_info": {
      "name": "python"
    }
  },
  "cells": [
    {
      "cell_type": "markdown",
      "metadata": {
        "id": "view-in-github",
        "colab_type": "text"
      },
      "source": [
        "<a href=\"https://colab.research.google.com/github/BAOTIN2004/baitaptailop/blob/main/5_2)Tuple.ipynb\" target=\"_parent\"><img src=\"https://colab.research.google.com/assets/colab-badge.svg\" alt=\"Open In Colab\"/></a>"
      ]
    },
    {
      "cell_type": "code",
      "execution_count": 6,
      "metadata": {
        "colab": {
          "base_uri": "https://localhost:8080/"
        },
        "id": "KmeyHssTngAz",
        "outputId": "a5271a7a-48d4-428a-d01b-736e4efe3a50"
      },
      "outputs": [
        {
          "output_type": "stream",
          "name": "stdout",
          "text": [
            "(12, 45, -1, -0.56, 'abc', True)\n",
            "Phan tu dau tien va cuoi cung cua t la 12 va True\n",
            "Phan tu dau tien den phan tu thu 4 cua t la (12, 45, -1, -0.56)\n",
            "Phan tu thu 3 den phan tu cuoi cung cua x la (-1, -0.56, 'abc', True)\n",
            "[12, 45, -1, -0.56, 'abc', True]\n"
          ]
        }
      ],
      "source": [
        "t=(12,45,-1,-0.56,\"abc\",True)\n",
        "print(t)\n",
        "print('Phan tu dau tien va cuoi cung cua t la',t[0],'va',t[-1])\n",
        "print('Phan tu dau tien den phan tu thu 4 cua t la',t[0:4])\n",
        "print('Phan tu thu 3 den phan tu cuoi cung cua x la',t[2:])\n",
        "print(list(t))"
      ]
    }
  ]
}