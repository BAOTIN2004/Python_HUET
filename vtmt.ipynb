{
  "nbformat": 4,
  "nbformat_minor": 0,
  "metadata": {
    "colab": {
      "provenance": [],
      "authorship_tag": "ABX9TyOvTeSFeUTLEEHeXcMe7isH",
      "include_colab_link": true
    },
    "kernelspec": {
      "name": "python3",
      "display_name": "Python 3"
    },
    "language_info": {
      "name": "python"
    }
  },
  "cells": [
    {
      "cell_type": "markdown",
      "metadata": {
        "id": "view-in-github",
        "colab_type": "text"
      },
      "source": [
        "<a href=\"https://colab.research.google.com/github/BAOTIN2004/Python_HUET/blob/main/vtmt.ipynb\" target=\"_parent\"><img src=\"https://colab.research.google.com/assets/colab-badge.svg\" alt=\"Open In Colab\"/></a>"
      ]
    },
    {
      "cell_type": "code",
      "execution_count": 2,
      "metadata": {
        "colab": {
          "base_uri": "https://localhost:8080/"
        },
        "id": "_Vsoiv8FNxcB",
        "outputId": "857d9884-413e-4bfa-bfff-98efe82f9517"
      },
      "outputs": [
        {
          "output_type": "stream",
          "name": "stdout",
          "text": [
            "Nhap so phan tu x1: 5\n",
            "3\n",
            "2\n",
            "5\n",
            "9\n",
            "4\n",
            "Bai 1: [3, 2, 5, 9, 4]\n",
            "Bai 2 [0, -5, 9, 6, 5, -3, -4, 8, -8, -1, 7, 5, -6, 7, 1, 2, 3, 3, 8, -5, -2, -10, -5, 3, -6, -8, -6, 3, 4, 3]\n",
            "Bai 3: [-5.582595076993166, -5.04533990273149, 3.8338736246556175, -2.6963842592721394, -3.4149015936547102, -2.804393569100724, -2.7523832067143736, -0.4271772995164227, 1.6330671135867174, -2.0821429100794604, -3.060334471541532, 5.69976074050519, 1.6055309707000598, 2.212441027651659, 2.105192448896166, -5.49498061940167, 3.798651739112084, 1.8394323569717583, 2.538903583848856, -2.468629531512921, -3.24062953736892, -4.786839685939056, 5.9265584656145185, -4.8266829501562185, 0.36630750664540734, 1.4704366966593518, -5.217941156300315, 4.94217773596963, 3.0812275218263236, 3.7326192410846177]\n",
            "Bai 4:\n",
            "Nhap a = 3\n",
            "Vec to x4: [1, 4, 4, 2, 4, 3, 3, 1, 1, 2]\n",
            "Ket qua cua phep nhan vecto x4 va 3 la: [3, 12, 12, 6, 12, 9, 9, 3, 3, 6]\n",
            "Bai 5:\n",
            "Vecto x: [2, 1, 1, 2, 2, 3, 4, 2, 1, 3, 0, 3, 2, 3, 2] \n",
            "Vecto y [4, 4, 1, 1, 0, 2, 4, 3, 4, 1, 3, 0, 3, 3, 2]\n",
            "Ket qua cua phep cong vec to x va y: x+y = [6, 5, 2, 3, 2, 5, 8, 5, 5, 4, 3, 3, 5, 6, 4]\n",
            "Ket qua cua phep tru vec to x va y: x-y = [-2, -3, 0, 1, 2, 1, 0, -1, -3, 2, -3, 3, -1, 0, 0]\n",
            "Bai 6:\n",
            "Vecto x: [-8, -5, -6, -7, -6, -8, -4, 8, -2, -8] \n",
            "Vecto y: [8, 0, -5, 9, 0, 3, -4, 0, -9, 7] \n",
            "Ket qua cua phep nhan elementwise multiplication của 2 vector x va y = [-64, 0, 30, -63, 0, -24, 16, 0, 18, -56]\n",
            "Bai 7: \n",
            "Vecto x: [-3, 0, 6, -10, -1, 6, 1, 7, 8, 8] \n",
            "Vecto y: [-10, -9, 8, -7, -10, -10, 9, -5, -8, -5] \n",
            "Ket qua cua phep tinh tich vo huong 2 vecto x va y = -32\n",
            "Bai 8:\n",
            " Ma tran A:\n",
            " [[4 9 6 8 0]\n",
            " [7 2 2 4 6]\n",
            " [1 2 2 0 7]] \n",
            "Phan tu A23: 2\n",
            "Moi ban nhap b:3\n",
            "Bai9\n",
            "Ket qua cua phep nhan 3 va ma tran A:\n",
            " [[12 27 18 24  0]\n",
            " [21  6  6 12 18]\n",
            " [ 3  6  6  0 21]]\n",
            "Bai 10\n",
            "Ket qua cua phep cong ma tran A va B:\n",
            " [[ 5 17  7 11  6]\n",
            " [16 11 10  4 15]\n",
            " [ 8  5  5  1 15]]\n",
            "Bai 11\n",
            "Ket qua cua phep nhan ma tran C va D:\n",
            " [[ 45  27  14  52  74]\n",
            " [ 76  77  30 131 123]\n",
            " [ 72  50  50 108 136]]\n"
          ]
        }
      ],
      "source": [
        "from numpy import random \n",
        "x1=[]\n",
        "n=int(input('Nhap so phan tu x1: '))\n",
        "for i in range(n):\n",
        "    x1.append(int(input()))\n",
        "print('Bai 1:',x1)\n",
        "x2=[random.randint(-10,11) for i in range(30)]\n",
        "print('Bai 2',x2)\n",
        "x3=[random.uniform(-5.7,6.9) for i in range(30)]\n",
        "print('Bai 3:',x3)\n",
        "x4=[random.randint(1,5) for i in range(10)]\n",
        "x5=[]\n",
        "print('Bai 4:')\n",
        "a=int(input('Nhap a = '))\n",
        "for i in range(0,len(x4)):\n",
        "    x5.append(x4[i]*a)\n",
        "print('Vec to x4:',x4)\n",
        "print('Ket qua cua phep nhan vecto x4 va',a,'la:',x5)\n",
        "x6=[random.randint(0,5) for i in range(15)]\n",
        "x7=[random.randint(0,5) for i in range(15)]\n",
        "x8=[]\n",
        "x9=[]\n",
        "for i in range(0,15,1):\n",
        "    x8.append(x6[i]+x7[i])\n",
        "    x9.append(x6[i]-x7[i])\n",
        "print('Bai 5:')\n",
        "print('Vecto x:',x6,'\\nVecto y',x7)\n",
        "print('Ket qua cua phep cong vec to x va y: x+y =',x8)\n",
        "print('Ket qua cua phep tru vec to x va y: x-y =',x9)\n",
        "x10=[random.randint(-10,10) for i in range(10)]\n",
        "x11=[random.randint(-10,10) for i in range(10)]\n",
        "x12=[]\n",
        "for i in range(0,10,1):\n",
        "    x12.append(x10[i]*x11[i])\n",
        "print('Bai 6:')\n",
        "print('Vecto x:',x10,'\\nVecto y:',x11,'\\nKet qua cua phep nhan elementwise multiplication của 2 vector x va y =',x12)\n",
        "x13=[random.randint(-10,10) for i in range(10)]\n",
        "x14=[random.randint(-10,10) for i in range(10)]\n",
        "s=0\n",
        "for i in range(0,10,1):\n",
        "    s+=(x13[i]*x14[i])\n",
        "print('Bai 7: \\nVecto x:',x13,'\\nVecto y:',x14,'\\nKet qua cua phep tinh tich vo huong 2 vecto x va y =',s)\n",
        "A=random.randint(0,10,size=(3,5))\n",
        "print('Bai 8:\\n','Ma tran A:\\n',A,'\\nPhan tu A23:',A[1,2])\n",
        "b=int(input('Moi ban nhap b:'))\n",
        "print('Bai9\\nKet qua cua phep nhan',b,'va ma tran A:\\n',A*b)\n",
        "B=random.randint(0,10,size=(3,5))\n",
        "print('Bai 10\\nKet qua cua phep cong ma tran A va B:\\n',A+B)\n",
        "C=random.randint(0,10,size=(3,4))\n",
        "D=random.randint(0,10,size=(4,5))\n",
        "print('Bai 11\\nKet qua cua phep nhan ma tran C va D:\\n',C@D)\n"
      ]
    }
  ]
}