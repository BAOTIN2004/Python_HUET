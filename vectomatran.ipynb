{
  "nbformat": 4,
  "nbformat_minor": 0,
  "metadata": {
    "colab": {
      "provenance": [],
      "authorship_tag": "ABX9TyMnbyquP4qc4qoZYp0aYfVA",
      "include_colab_link": true
    },
    "kernelspec": {
      "name": "python3",
      "display_name": "Python 3"
    },
    "language_info": {
      "name": "python"
    }
  },
  "cells": [
    {
      "cell_type": "markdown",
      "metadata": {
        "id": "view-in-github",
        "colab_type": "text"
      },
      "source": [
        "<a href=\"https://colab.research.google.com/github/BAOTIN2004/Python_HUET/blob/main/vectomatran.ipynb\" target=\"_parent\"><img src=\"https://colab.research.google.com/assets/colab-badge.svg\" alt=\"Open In Colab\"/></a>"
      ]
    },
    {
      "cell_type": "code",
      "execution_count": 1,
      "metadata": {
        "colab": {
          "base_uri": "https://localhost:8080/"
        },
        "id": "_Vsoiv8FNxcB",
        "outputId": "66ead53d-9795-48b8-9581-576da3583756"
      },
      "outputs": [
        {
          "output_type": "stream",
          "name": "stdout",
          "text": [
            "Nhap so phan tu x1: 4\n",
            "3\n",
            "6\n",
            "9\n",
            "4\n",
            "Bai 1: [3, 6, 9, 4]\n",
            "Bai 2 [-1, 8, 8, 2, 3, -7, -2, -6, -4, -3, 10, -4, 8, -9, 10, 9, 2, -8, 1, -4, -8, -1, 5, 7, -5, -2, 0, 5, 7, -9]\n",
            "Bai 3: [4.7214865030940105]\n",
            "Nhap a = 2\n",
            "Bai 4:\n",
            "Vec to x4: [4, 1, 2, 3, 1, 4, 1, 4, 1, 4]\n",
            "Ket qua cua phep nhan vecto x4 va 2 la: [8, 2, 4, 6, 2, 8, 2, 8, 2, 8]\n",
            "Bai 5:\n",
            "Vecto x: [4, 1, 4, 4, 4, 1, 3, 1, 3, 2, 3, 1, 3, 1, 3] \n",
            "Vecto y [4, 4, 2, 2, 0, 1, 4, 2, 1, 1, 2, 1, 1, 2, 0]\n",
            "Ket qua cua phep cong vec to x va y: x+y = [8, 5, 6, 6, 4, 2, 7, 3, 4, 3, 5, 2, 4, 3, 3]\n",
            "Ket qua cua phep tru vec to x va y: x-y = [0, -3, 2, 2, 4, 0, -1, -1, 2, 1, 1, 0, 2, -1, 3]\n",
            "Bai 6:\n",
            "Vecto x: [-8, -3, 3, 1, 8, 4, -10, -5, 8, 8] \n",
            "Vecto y: [4, 9, 8, 6, 2, -5, 0, -2, 4, -3] \n",
            "Ket qua cua phep nhan elementwise multiplication của 2 vector x va y = [-32, -27, 24, 6, 16, -20, 0, 10, 32, -24]\n",
            "Bai 7: \n",
            "Vecto x: [-2, 9, -6, 1, 2, 2, -4, -3, 2, 9] \n",
            "Vecto y: [2, -7, 6, -2, 0, -8, 6, -2, -3, 6] \n",
            "Ket qua cua phep tinh tich vo huong 2 vecto x va y = -91\n",
            "Bai 8:\n",
            " Ma tran A:\n",
            " [[4 9 7 2 2]\n",
            " [2 5 5 3 8]\n",
            " [8 5 0 0 0]] \n",
            "Phan tu A23: 5\n",
            "Moi ban nhap b:3\n",
            "Bai9\n",
            "Ket qua cua phep nhan 3 va ma tran A:\n",
            " [[12 27 21  6  6]\n",
            " [ 6 15 15  9 24]\n",
            " [24 15  0  0  0]]\n",
            "Bai 10\n",
            "Ket qua cua phep cong ma tran A va B:\n",
            " [[ 5 10 10 11 10]\n",
            " [ 4 14 11  9  8]\n",
            " [11  5  7  1  8]]\n",
            "Bai 11\n",
            "Ket qua cua phep nhan ma tran C va D:\n",
            " [[142  75 132  77 106]\n",
            " [127  72 115  63 101]\n",
            " [ 81  29  77  50  73]]\n"
          ]
        }
      ],
      "source": [
        "from numpy import random \n",
        "x1=[]\n",
        "n=int(input('Nhap so phan tu x1: '))\n",
        "for i in range(n):\n",
        "    x1.append(int(input()))\n",
        "print('Bai 1:',x1)\n",
        "x2=[random.randint(-10,11) for i in range(30)]\n",
        "print('Bai 2',x2)\n",
        "x3=[random.uniform(-5.7,6.9)]\n",
        "print('Bai 3:',x3)\n",
        "x4=[random.randint(1,5) for i in range(10)]\n",
        "x5=[]\n",
        "print('Bai 4:')\n",
        "a=int(input('Nhap a = '))\n",
        "for i in range(0,len(x4)):\n",
        "    x5.append(x4[i]*a)\n",
        "print('Vec to x4:',x4)\n",
        "print('Ket qua cua phep nhan vecto x4 va',a,'la:',x5)\n",
        "x6=[random.randint(0,5) for i in range(15)]\n",
        "x7=[random.randint(0,5) for i in range(15)]\n",
        "x8=[]\n",
        "x9=[]\n",
        "for i in range(0,15,1):\n",
        "    x8.append(x6[i]+x7[i])\n",
        "    x9.append(x6[i]-x7[i])\n",
        "print('Bai 5:')\n",
        "print('Vecto x:',x6,'\\nVecto y',x7)\n",
        "print('Ket qua cua phep cong vec to x va y: x+y =',x8)\n",
        "print('Ket qua cua phep tru vec to x va y: x-y =',x9)\n",
        "x10=[random.randint(-10,10) for i in range(10)]\n",
        "x11=[random.randint(-10,10) for i in range(10)]\n",
        "x12=[]\n",
        "for i in range(0,10,1):\n",
        "    x12.append(x10[i]*x11[i])\n",
        "print('Bai 6:')\n",
        "print('Vecto x:',x10,'\\nVecto y:',x11,'\\nKet qua cua phep nhan elementwise multiplication của 2 vector x va y =',x12)\n",
        "x13=[random.randint(-10,10) for i in range(10)]\n",
        "x14=[random.randint(-10,10) for i in range(10)]\n",
        "s=0\n",
        "for i in range(0,10,1):\n",
        "    s+=(x13[i]*x14[i])\n",
        "print('Bai 7: \\nVecto x:',x13,'\\nVecto y:',x14,'\\nKet qua cua phep tinh tich vo huong 2 vecto x va y =',s)\n",
        "A=random.randint(0,10,size=(3,5))\n",
        "print('Bai 8:\\n','Ma tran A:\\n',A,'\\nPhan tu A23:',A[1,2])\n",
        "b=int(input('Moi ban nhap b:'))\n",
        "print('Bai9\\nKet qua cua phep nhan',b,'va ma tran A:\\n',A*b)\n",
        "B=random.randint(0,10,size=(3,5))\n",
        "print('Bai 10\\nKet qua cua phep cong ma tran A va B:\\n',A+B)\n",
        "C=random.randint(0,10,size=(3,4))\n",
        "D=random.randint(0,10,size=(4,5))\n",
        "print('Bai 11\\nKet qua cua phep nhan ma tran C va D:\\n',C@D)\n"
      ]
    }
  ]
}