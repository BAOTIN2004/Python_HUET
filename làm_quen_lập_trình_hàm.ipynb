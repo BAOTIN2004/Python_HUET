{
  "nbformat": 4,
  "nbformat_minor": 0,
  "metadata": {
    "colab": {
      "provenance": [],
      "authorship_tag": "ABX9TyNiNmEYQRYlOm9RV1zt1R1t",
      "include_colab_link": true
    },
    "kernelspec": {
      "name": "python3",
      "display_name": "Python 3"
    },
    "language_info": {
      "name": "python"
    }
  },
  "cells": [
    {
      "cell_type": "markdown",
      "metadata": {
        "id": "view-in-github",
        "colab_type": "text"
      },
      "source": [
        "<a href=\"https://colab.research.google.com/github/BAOTIN2004/Python_HUET/blob/main/l%C3%A0m_quen_l%E1%BA%ADp_tr%C3%ACnh_h%C3%A0m.ipynb\" target=\"_parent\"><img src=\"https://colab.research.google.com/assets/colab-badge.svg\" alt=\"Open In Colab\"/></a>"
      ]
    },
    {
      "cell_type": "code",
      "execution_count": 2,
      "metadata": {
        "colab": {
          "base_uri": "https://localhost:8080/"
        },
        "id": "4UNoSTrccQri",
        "outputId": "606095c5-2939-492d-d8e5-153dca89eeb8"
      },
      "outputs": [
        {
          "output_type": "stream",
          "name": "stdout",
          "text": [
            "Welcome Huế\n",
            "Welcome to Đà Nẵng\n",
            "Nhap n = 10\n",
            "s =  55\n"
          ]
        }
      ],
      "source": [
        "def welcome1():\n",
        "    print('Welcome Huế')\n",
        "def welcome2(message):\n",
        "    print(message)\n",
        "def nhap_so_n():\n",
        "    n=abs(int(input('Nhap n = ')))\n",
        "    return n\n",
        "def tinhtong(n):\n",
        "    s=0\n",
        "    for i in range(1,n+1):\n",
        "        s+=i\n",
        "    return s\n",
        "def main():\n",
        "    welcome1()\n",
        "    welcome2('Welcome to Đà Nẵng')\n",
        "    n=nhap_so_n()\n",
        "    s=tinhtong(n)\n",
        "    print('s = ',s)\n",
        "if __name__== \"__main__\":\n",
        "    main()"
      ]
    }
  ]
}