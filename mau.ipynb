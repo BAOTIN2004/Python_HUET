{
  "nbformat": 4,
  "nbformat_minor": 0,
  "metadata": {
    "colab": {
      "provenance": [],
      "authorship_tag": "ABX9TyP7GO6MMV94WNZLqfgYf87L",
      "include_colab_link": true
    },
    "kernelspec": {
      "name": "python3",
      "display_name": "Python 3"
    },
    "language_info": {
      "name": "python"
    }
  },
  "cells": [
    {
      "cell_type": "markdown",
      "metadata": {
        "id": "view-in-github",
        "colab_type": "text"
      },
      "source": [
        "<a href=\"https://colab.research.google.com/github/BAOTIN2004/Python_HUET/blob/main/mau.ipynb\" target=\"_parent\"><img src=\"https://colab.research.google.com/assets/colab-badge.svg\" alt=\"Open In Colab\"/></a>"
      ]
    },
    {
      "cell_type": "code",
      "execution_count": 1,
      "metadata": {
        "colab": {
          "base_uri": "https://localhost:8080/"
        },
        "id": "TH5EVaWqPcGG",
        "outputId": "c9b9620a-9dd9-40b4-f642-a023cb1eaa96"
      },
      "outputs": [
        {
          "output_type": "stream",
          "name": "stdout",
          "text": [
            "x = [3]\n"
          ]
        }
      ],
      "source": [
        "from sympy import symbols,Eq,solve\n",
        "x=symbols('x')\n",
        "pt=Eq(2*x-6,0)\n",
        "kq=solve(pt,x)\n",
        "print('x =',kq)"
      ]
    },
    {
      "cell_type": "code",
      "source": [
        "x,y=symbols('x y')\n",
        "pt1=Eq(2*x+y-1,0)\n",
        "pt2=Eq(x+y-5,0)\n",
        "kq=solve((pt1,pt2),(x,y))\n",
        "print(kq)"
      ],
      "metadata": {
        "colab": {
          "base_uri": "https://localhost:8080/"
        },
        "id": "KZJPus8pQKp6",
        "outputId": "77271822-72d3-4040-8bc0-48c9b60df4c7"
      },
      "execution_count": 2,
      "outputs": [
        {
          "output_type": "stream",
          "name": "stdout",
          "text": [
            "{x: -4, y: 9}\n"
          ]
        }
      ]
    },
    {
      "cell_type": "code",
      "source": [
        "from sympy import sin,limit\n",
        "x=symbols('x')\n",
        "f=sin(x)/x\n",
        "kq=limit(f,x,0)\n",
        "print(kq)\n"
      ],
      "metadata": {
        "colab": {
          "base_uri": "https://localhost:8080/"
        },
        "id": "OXgIOpFeQppr",
        "outputId": "aba7e8e3-8922-433b-a06d-3bf928c92156"
      },
      "execution_count": 3,
      "outputs": [
        {
          "output_type": "stream",
          "name": "stdout",
          "text": [
            "1\n"
          ]
        }
      ]
    },
    {
      "cell_type": "code",
      "source": [
        "from sympy import diff\n",
        "x=symbols('x')\n",
        "f=sin(x)\n",
        "kq=diff(f,x)\n",
        "print(kq)"
      ],
      "metadata": {
        "colab": {
          "base_uri": "https://localhost:8080/"
        },
        "id": "ETbnvsbuREVa",
        "outputId": "1a6356ca-c910-4485-f9c7-f70d00faeb24"
      },
      "execution_count": 4,
      "outputs": [
        {
          "output_type": "stream",
          "name": "stdout",
          "text": [
            "cos(x)\n"
          ]
        }
      ]
    },
    {
      "cell_type": "code",
      "source": [
        "from sympy import *\n",
        "x=symbols('x')\n",
        "f=exp(-x)\n",
        "kq=integrate(f,(x,0,+oo))\n",
        "print(kq)"
      ],
      "metadata": {
        "colab": {
          "base_uri": "https://localhost:8080/"
        },
        "id": "kEMRlpaLRafz",
        "outputId": "9717a779-f0ab-4c60-fe1b-4370d259acda"
      },
      "execution_count": 7,
      "outputs": [
        {
          "output_type": "stream",
          "name": "stdout",
          "text": [
            "1\n"
          ]
        }
      ]
    },
    {
      "cell_type": "code",
      "source": [
        "x,y=symbols('x y')\n",
        "f=exp(-x**2-y**2)\n",
        "kq=integrate(f,(x,-00,+00),(y,-00,+00))\n",
        "print(kq)"
      ],
      "metadata": {
        "colab": {
          "base_uri": "https://localhost:8080/"
        },
        "id": "JuLTV-lcSHqz",
        "outputId": "e95c6725-3a30-4a6f-dab5-a6256581c188"
      },
      "execution_count": 8,
      "outputs": [
        {
          "output_type": "stream",
          "name": "stdout",
          "text": [
            "0\n"
          ]
        }
      ]
    },
    {
      "cell_type": "code",
      "source": [],
      "metadata": {
        "id": "2dQgOyn3SfGS"
      },
      "execution_count": null,
      "outputs": []
    }
  ]
}