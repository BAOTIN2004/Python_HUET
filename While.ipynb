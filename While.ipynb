{
  "nbformat": 4,
  "nbformat_minor": 0,
  "metadata": {
    "colab": {
      "provenance": [],
      "collapsed_sections": [],
      "authorship_tag": "ABX9TyM/IpAR3/Rr/vqP4dd/faHS",
      "include_colab_link": true
    },
    "kernelspec": {
      "name": "python3",
      "display_name": "Python 3"
    },
    "language_info": {
      "name": "python"
    }
  },
  "cells": [
    {
      "cell_type": "markdown",
      "metadata": {
        "id": "view-in-github",
        "colab_type": "text"
      },
      "source": [
        "<a href=\"https://colab.research.google.com/github/BAOTIN2004/Python_HUET/blob/main/While.ipynb\" target=\"_parent\"><img src=\"https://colab.research.google.com/assets/colab-badge.svg\" alt=\"Open In Colab\"/></a>"
      ]
    },
    {
      "cell_type": "code",
      "execution_count": null,
      "metadata": {
        "id": "cYcAx4R18SiB"
      },
      "outputs": [],
      "source": [
        "from math import log\n",
        "n=int(input('Xin moi nhap n:'))\n",
        "print('Bai 1:')\n",
        "s1=s2=s3=s4=s5=0\n",
        "for i in range(1,n+1,1):\n",
        "    s1+=i\n",
        "    if i%2==0:\n",
        "        s2+=i\n",
        "    else:\n",
        "        s3+=i\n",
        "    s4+=log(i)\n",
        "    s5+=(1/i)\n",
        "print('Ket qua bai 1.1:',s1,'\\nKet qua bai 1.2:',s2,'\\nKet qua bai 1.3:',s3,'\\nKet qua bai 1.4:',s4,'\\nKet qua bai 1.5:',s5)\n",
        "\n",
        "print('Bai 2:')\n",
        "s6=s7=s8=1\n",
        "for i in range(1,n+1,1):\n",
        "    s6*=i\n",
        "    if i%2!=0:\n",
        "        s7*=i\n",
        "    else:\n",
        "        s8*=i \n",
        "print('Ket qua bai 2.1:',s6,'\\nKet qua bai 2.2:',1/s6,'\\nKet qua bai 2.3:',s7,'\\nKet qua bai 2.4:',s8) "
      ]
    }
  ]
}