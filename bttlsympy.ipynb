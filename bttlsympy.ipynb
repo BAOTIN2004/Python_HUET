{
  "nbformat": 4,
  "nbformat_minor": 0,
  "metadata": {
    "colab": {
      "provenance": [],
      "authorship_tag": "ABX9TyPo52oH7zjXnErMPf2XQ5UW",
      "include_colab_link": true
    },
    "kernelspec": {
      "name": "python3",
      "display_name": "Python 3"
    },
    "language_info": {
      "name": "python"
    }
  },
  "cells": [
    {
      "cell_type": "markdown",
      "metadata": {
        "id": "view-in-github",
        "colab_type": "text"
      },
      "source": [
        "<a href=\"https://colab.research.google.com/github/BAOTIN2004/Python_HUET/blob/main/bttlsympy.ipynb\" target=\"_parent\"><img src=\"https://colab.research.google.com/assets/colab-badge.svg\" alt=\"Open In Colab\"/></a>"
      ]
    },
    {
      "cell_type": "code",
      "execution_count": 4,
      "metadata": {
        "colab": {
          "base_uri": "https://localhost:8080/"
        },
        "id": "EHlGPRNhX9vP",
        "outputId": "354db9f0-5e74-4146-db5f-f0bbea8ed3ee"
      },
      "outputs": [
        {
          "output_type": "stream",
          "name": "stdout",
          "text": [
            "[5/2]\n",
            "[9/5]\n",
            "{x: 8, y: 5}\n",
            "{x: 0, y: 2, z: 3}\n",
            "-oo\n",
            "0\n",
            "6*x + 6\n",
            "tan(x)**2 + 1\n",
            "4/45\n",
            "-3*x*y**4/4 + y*(5*x - 2*cos(x))\n",
            "320/3\n"
          ]
        }
      ],
      "source": [
        "from sympy import*\n",
        "\n",
        "def giai_phuong_trinh():\n",
        "    x=symbols('x')\n",
        "    eq1=Eq(-2*x+5,0)\n",
        "    eq2=Eq(5*x-9,0)\n",
        "    kq1=solve(eq1,x)\n",
        "    kq2=solve(eq2,x)\n",
        "    print(kq1)\n",
        "    print(kq2)\n",
        "\n",
        "def giai_he_phuong_trinh():\n",
        "    x,y=symbols('x y ')\n",
        "    pt1=Eq(x-y,3)\n",
        "    pt2=Eq(3*x-4*y,4)\n",
        "    kq=solve((pt1,pt2),(x,y))\n",
        "    print(kq)\n",
        "    x,y,z=symbols('x y z')\n",
        "    pt3=Eq(x-y+2*z,4)\n",
        "    pt4=Eq(2*x+y-z,-1)\n",
        "    pt5=Eq(x+y+z,5)\n",
        "    kq2=solve((pt3,pt4,pt5),(x,y,z))\n",
        "    print(kq2)\n",
        "\n",
        "def tinh_gioi_han():\n",
        "    x=symbols('x')\n",
        "    f=(x-8)/(x-2)\n",
        "    gh1=limit(f,x,2)\n",
        "    print(gh1) \n",
        "    g=(1-cos(x))/sin(x)\n",
        "    gh2=limit(g,x,0)\n",
        "    print(gh2)\n",
        "\n",
        "def tinh_dao_ham():\n",
        "    x=symbols('x')\n",
        "    f=3*x**2+6*x-8\n",
        "    g=tan(x)\n",
        "    kq1=diff(f,x,1)\n",
        "    kq2=diff(g,x,1)\n",
        "    print(kq1)\n",
        "    print(kq2)\n",
        "\n",
        "def tinh_tich_phan():\n",
        "    x,y=symbols('x,y')\n",
        "    fa=sin(2*x)*sin(7*x)\n",
        "    fb=2*sin(x)-3*y**3+5\n",
        "    fc=x**2+y**2\n",
        "    kqa=integrate(fa,(x,-pi/2,pi/2))\n",
        "    kqb=integrate(fb,(x),(y))\n",
        "    kqc=integrate(fc,(x,-2,2),(y,0,4))\n",
        "    print(kqa)\n",
        "    print(kqb)\n",
        "    print(kqc)\n",
        "    \n",
        "def main():\n",
        "    giai_phuong_trinh()\n",
        "    giai_he_phuong_trinh()\n",
        "    tinh_gioi_han()\n",
        "    tinh_dao_ham()\n",
        "    tinh_tich_phan()\n",
        "if __name__==\"__main__\":\n",
        "    main()\n"
      ]
    }
  ]
}