{
  "nbformat": 4,
  "nbformat_minor": 0,
  "metadata": {
    "colab": {
      "provenance": [],
      "collapsed_sections": [],
      "authorship_tag": "ABX9TyOgACMD7C8wv92ubkPu67i9",
      "include_colab_link": true
    },
    "kernelspec": {
      "name": "python3",
      "display_name": "Python 3"
    },
    "language_info": {
      "name": "python"
    }
  },
  "cells": [
    {
      "cell_type": "markdown",
      "metadata": {
        "id": "view-in-github",
        "colab_type": "text"
      },
      "source": [
        "<a href=\"https://colab.research.google.com/github/BAOTIN2004/baitaptailop/blob/main/5_1)LIST.ipynb\" target=\"_parent\"><img src=\"https://colab.research.google.com/assets/colab-badge.svg\" alt=\"Open In Colab\"/></a>"
      ]
    },
    {
      "cell_type": "code",
      "execution_count": 1,
      "metadata": {
        "colab": {
          "base_uri": "https://localhost:8080/"
        },
        "id": "vhfXabgoksW1",
        "outputId": "7454faf4-d4d9-4f9a-890f-8192bcefe185"
      },
      "outputs": [
        {
          "output_type": "stream",
          "name": "stdout",
          "text": [
            "[18, 'Hue', 12, 45, -1, -0.56, 'abc']\n",
            "Phan tu dau tien cua list x la 18  phan tu cuoi cung cua list x la abc\n",
            "Cac gia tri tu phan tu dau tien den phan tu thu 5 cua x: [18, 'Hue', 12, 45, -1]\n",
            "Cac gia tri cua phan tu tu thu 3 den cuoi cung cua x la [12, 45, -1, -0.56, 'abc']\n"
          ]
        }
      ],
      "source": [
        "x=[]\n",
        "x.append(18)\n",
        "x.append(\"Hue\")\n",
        "y=[12,45,-1,-0.56,\"abc\"]\n",
        "x.extend(y)\n",
        "print(x)\n",
        "print('Phan tu dau tien cua list x la',x[0],' phan tu cuoi cung cua list x la',x[-1])\n",
        "print('Cac gia tri tu phan tu dau tien den phan tu thu 5 cua x:',x[0:5])\n",
        "print('Cac gia tri cua phan tu tu thu 3 den cuoi cung cua x la',x[2:])"
      ]
    }
  ]
}