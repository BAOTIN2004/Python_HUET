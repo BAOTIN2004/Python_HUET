{
  "nbformat": 4,
  "nbformat_minor": 0,
  "metadata": {
    "colab": {
      "provenance": [],
      "authorship_tag": "ABX9TyMzPjS6NtpdsuzBcYHIIfPA",
      "include_colab_link": true
    },
    "kernelspec": {
      "name": "python3",
      "display_name": "Python 3"
    },
    "language_info": {
      "name": "python"
    }
  },
  "cells": [
    {
      "cell_type": "markdown",
      "metadata": {
        "id": "view-in-github",
        "colab_type": "text"
      },
      "source": [
        "<a href=\"https://colab.research.google.com/github/BAOTIN2004/Python_HUET/blob/main/gi%E1%BA%A3i_pt_b%E1%BA%ADc_2(g%E1%BB%8Di_h%C3%A0m1).ipynb\" target=\"_parent\"><img src=\"https://colab.research.google.com/assets/colab-badge.svg\" alt=\"Open In Colab\"/></a>"
      ]
    },
    {
      "cell_type": "code",
      "execution_count": 6,
      "metadata": {
        "colab": {
          "base_uri": "https://localhost:8080/"
        },
        "id": "3Dm4FLgrludW",
        "outputId": "1b4c1dc9-b359-4635-8da0-6df7a5c00561"
      },
      "outputs": [
        {
          "output_type": "stream",
          "name": "stdout",
          "text": [
            "Nhập hệ số a: 4\n",
            "Nhập hệ số b: 4\n",
            "Nhập hệ số c: 1\n",
            "Phương trình có nghiệm kép x = -0.5\n"
          ]
        }
      ],
      "source": [
        "def giai_pt_bac_1(b,c):\n",
        "    if b==0:\n",
        "        if c==0:\n",
        "            print('Phương trình vô số nghiệm')\n",
        "        else:\n",
        "            print('Phương trình vô nghiệm')\n",
        "    else:\n",
        "        x=-b/c\n",
        "        print('Nghiệm x =',x)\n",
        "import math\n",
        "def giai_pt_bac_2(a,b,c):\n",
        "    if a==0:\n",
        "        giai_pt_bac_1(b,c)\n",
        "    else:\n",
        "        delta=b**2-4*a*c\n",
        "        if delta>0:\n",
        "            x1=(-b+sqrt(delta))/(2*a)\n",
        "            x2=(-b-sqrt(delta))/(2*a)\n",
        "            print(\"Nghiệm của phương trình la x1 =\",x1,'; x2 =',x2)\n",
        "        elif math.isclose(delta,0):\n",
        "            print('Phương trình có nghiệm kép x =',-b/(2*a))\n",
        "        else:\n",
        "            print('Phương trình vô nghiệm')\n",
        "\n",
        "def main():\n",
        "    a =int(input('Nhập hệ số a: '))\n",
        "    b =int(input('Nhập hệ số b: '))\n",
        "    c =int(input('Nhập hệ số c: '))\n",
        "    giai_pt_bac_2(a,b,c)\n",
        "if __name__== \"__main__\":\n",
        "    main()"
      ]
    }
  ]
}