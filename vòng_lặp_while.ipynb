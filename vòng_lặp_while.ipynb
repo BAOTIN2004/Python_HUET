{
  "nbformat": 4,
  "nbformat_minor": 0,
  "metadata": {
    "colab": {
      "provenance": [],
      "authorship_tag": "ABX9TyOzqorCVWS8Z8EUe1GgvyER",
      "include_colab_link": true
    },
    "kernelspec": {
      "name": "python3",
      "display_name": "Python 3"
    },
    "language_info": {
      "name": "python"
    }
  },
  "cells": [
    {
      "cell_type": "markdown",
      "metadata": {
        "id": "view-in-github",
        "colab_type": "text"
      },
      "source": [
        "<a href=\"https://colab.research.google.com/github/BAOTIN2004/baitaptailop/blob/main/v%C3%B2ng_l%E1%BA%B7p_while.ipynb\" target=\"_parent\"><img src=\"https://colab.research.google.com/assets/colab-badge.svg\" alt=\"Open In Colab\"/></a>"
      ]
    },
    {
      "cell_type": "code",
      "execution_count": 1,
      "metadata": {
        "colab": {
          "base_uri": "https://localhost:8080/"
        },
        "id": "Iz3LfNTXAowa",
        "outputId": "6fd810db-ba2e-4856-f7de-9edf97cf163f"
      },
      "outputs": [
        {
          "output_type": "stream",
          "name": "stdout",
          "text": [
            "Nhap n:-9\n",
            "Nhap n:3\n",
            "n = 3\n",
            "Bai 1:\n",
            "Ket qua bai 1.1: 6\n",
            "Ket qua bai 1.2: 4\n",
            "Ket qua bai 1.3: 2\n",
            "Ket qua bai 1.4: 1.791759469228055\n",
            "Ket qua bai 1.5: 1.8333333333333333\n",
            "Bai 2:\n",
            "Ket qua bai 2.1: 6\n",
            "Ket qua bai 2.2: 1\n",
            "Ket qua bai 2.3: 3\n",
            "Ket qua bai 2.4: 2\n"
          ]
        }
      ],
      "source": [
        "from math import log,exp\n",
        "flag=False\n",
        "i=1\n",
        "s1=s2=s3=s4=s5=0\n",
        "s6=s7=1\n",
        "while not(flag):\n",
        "    n = int(input('Nhap n:'))\n",
        "    if n>=0:\n",
        "        flag=True\n",
        "        print('n =',n)\n",
        "\n",
        "\n",
        "while i<=n:\n",
        "    s1+=i\n",
        "    if (i%2!=0):\n",
        "        s2+=i\n",
        "    if (i%2==0):\n",
        "        s3+=i\n",
        "    s4+= log(i)\n",
        "    s5+=(1/i)\n",
        "    i += 1\n",
        "print('Bai 1:')\n",
        "print('Ket qua bai 1.1:',s1)\n",
        "print('Ket qua bai 1.2:',s2)\n",
        "print('Ket qua bai 1.3:',s3)\n",
        "print('Ket qua bai 1.4:',s4)\n",
        "print('Ket qua bai 1.5:',s5)\n",
        "j=1\n",
        "s6=s7=s8=s9=1\n",
        "while j<=n:\n",
        "    s6*=j\n",
        "    s7*(1/j)\n",
        "    if j%2!=0:\n",
        "        s8*=j\n",
        "    else:\n",
        "        s9*=j\n",
        "    j+=1\n",
        "print('Bai 2:')\n",
        "print('Ket qua bai 2.1:',s6)\n",
        "print('Ket qua bai 2.2:',s7)\n",
        "print('Ket qua bai 2.3:',s8)\n",
        "print('Ket qua bai 2.4:',s9)\n",
        "\n",
        " \n",
        "\n",
        "\n",
        "\n",
        "\n",
        "\n",
        "\n",
        "\n"
      ]
    }
  ]
}