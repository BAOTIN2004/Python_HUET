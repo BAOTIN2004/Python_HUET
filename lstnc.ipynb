{
  "nbformat": 4,
  "nbformat_minor": 0,
  "metadata": {
    "colab": {
      "provenance": [],
      "authorship_tag": "ABX9TyPtCdXereXrSUW9jEAR0n2d",
      "include_colab_link": true
    },
    "kernelspec": {
      "name": "python3",
      "display_name": "Python 3"
    },
    "language_info": {
      "name": "python"
    }
  },
  "cells": [
    {
      "cell_type": "markdown",
      "metadata": {
        "id": "view-in-github",
        "colab_type": "text"
      },
      "source": [
        "<a href=\"https://colab.research.google.com/github/BAOTIN2004/Python_HUET/blob/main/lstnc.ipynb\" target=\"_parent\"><img src=\"https://colab.research.google.com/assets/colab-badge.svg\" alt=\"Open In Colab\"/></a>"
      ]
    },
    {
      "cell_type": "code",
      "execution_count": 1,
      "metadata": {
        "colab": {
          "base_uri": "https://localhost:8080/"
        },
        "id": "klCd5lGoYFhs",
        "outputId": "d4217c0f-728a-435d-b129-bffeb92f63d0"
      },
      "outputs": [
        {
          "output_type": "stream",
          "name": "stdout",
          "text": [
            "Nhap so phan tu cua lst: 6\n",
            "Cau 1: [0, 1, 2, 3, 4, 5] \n",
            "Cau 2:\n",
            "Ket qua cau 2.1: 15 \n",
            "Ket qua cau 2.2: 0\n",
            "Cau 3:\n",
            "In cac phan tu cua list tu trai sang phai: 0; 1; 2; 3; 4; 5; \n",
            "In cac phan tu cua list tu phai sang trai: 5; 4; 3; 2; 1; 0; \n",
            "Cau 4:\n",
            "Nhap chi so a:1\n",
            "Nhap chi so b:3\n",
            "Lst sau khi hoan doi hai vi tri 2 chi so 1 va 3  la: [0, 3, 2, 1, 4, 5]\n",
            "Cau 5:\n",
            "Ket qua cau 5.1: Nhap vao x = 2\n",
            "Phan tu 2 co trong lst\n",
            "Ket qua cau 5.2: 3; 4; 5; \n",
            "Ket qua cau 5.3: 0; 1; "
          ]
        }
      ],
      "source": [
        "lst=[]\n",
        "n=abs(int(input('Nhap so phan tu cua lst: ')))\n",
        "s1=0\n",
        "s2=1\n",
        "for i in range(0,n,1):\n",
        "    lst.append(i)\n",
        "    s1+=i \n",
        "    s2*=i\n",
        "print('Cau 1:',lst,'\\nCau 2:')\n",
        "print('Ket qua cau 2.1:',s1,'\\nKet qua cau 2.2:',s2)\n",
        "print('Cau 3:')\n",
        "print('In cac phan tu cua list tu trai sang phai:',end=' ')\n",
        "for i in range(0,n,1):\n",
        "    print(lst[i],end='; ')\n",
        "print('\\nIn cac phan tu cua list tu phai sang trai:',end=' ')\n",
        "for i in range(n-1,-1,-1):\n",
        "    print(lst[i],end='; ')\n",
        "print('\\nCau 4:')\n",
        "flag=False\n",
        "while not(flag):\n",
        "    a = int(input('Nhap chi so a:'))\n",
        "    b = int(input('Nhap chi so b:'))\n",
        "    if ((a>=0 and a<n ) or (a<=-1 and a>=-n)) and ((b>=0 and b<n ) or (b<=-1 and b>=-n)):\n",
        "        flag=True\n",
        "    else:\n",
        "         print('Chi so  ban vua nhap khong nam trong list. Moi nhap lai!')\n",
        "temp=lst[a]\n",
        "lst[a]=lst[b]\n",
        "lst[b]=temp\n",
        "print('Lst sau khi hoan doi hai vi tri 2 chi so',a,'va', b,' la:',lst)\n",
        "print('Cau 5:')\n",
        "print('Ket qua cau 5.1:',end=' ')\n",
        "x=abs(int(input('Nhap vao x = ')))\n",
        "for i in range(0,n,1):\n",
        "    dem=0\n",
        "    if lst[i]==x:\n",
        "       dem+=1\n",
        "       break\n",
        "if dem==1: print('Phan tu',x,'co trong lst') \n",
        "else: print('Phan tu',x,'khong co trong lst')\n",
        "print('Ket qua cau 5.2:',end=' ')\n",
        "for i in range(0,n,1):\n",
        "    if lst[i]>x:\n",
        "        print(lst[i],end='; ')\n",
        "print('\\nKet qua cau 5.3:',end=' ')\n",
        "for i in range(0,n,1): \n",
        "    if lst[i]<x:\n",
        "        print(lst[i],end='; ')         "
      ]
    }
  ]
}