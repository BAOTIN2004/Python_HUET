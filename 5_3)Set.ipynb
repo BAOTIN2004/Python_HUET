{
  "nbformat": 4,
  "nbformat_minor": 0,
  "metadata": {
    "colab": {
      "provenance": [],
      "collapsed_sections": [],
      "authorship_tag": "ABX9TyP7WkfIkPGOQD2C8paW3Xz3",
      "include_colab_link": true
    },
    "kernelspec": {
      "name": "python3",
      "display_name": "Python 3"
    },
    "language_info": {
      "name": "python"
    }
  },
  "cells": [
    {
      "cell_type": "markdown",
      "metadata": {
        "id": "view-in-github",
        "colab_type": "text"
      },
      "source": [
        "<a href=\"https://colab.research.google.com/github/BAOTIN2004/baitaptailop/blob/main/5_3)Set.ipynb\" target=\"_parent\"><img src=\"https://colab.research.google.com/assets/colab-badge.svg\" alt=\"Open In Colab\"/></a>"
      ]
    },
    {
      "cell_type": "code",
      "execution_count": 11,
      "metadata": {
        "colab": {
          "base_uri": "https://localhost:8080/"
        },
        "id": "QZjiOa8RrVsC",
        "outputId": "f5b6d321-8aa0-47e6-8be7-e5087c1ce92e"
      },
      "outputs": [
        {
          "output_type": "stream",
          "name": "stdout",
          "text": [
            "{'NNLT Python', 'Đại số tuyến tính', 'Tiếng Anh chuyên ngành', 'Thể dục'}\n",
            "{'Đại số tuyến tính', 'Recommender Systems', 'Tối ưu hóa', 'Computervision', 'Natural Language Processing', 'Học sâu', 'NNLT Python', 'Học Máy'}\n",
            "Ket qua phep hop A va B  {'Đại số tuyến tính', 'Tiếng Anh chuyên ngành', 'Recommender Systems', 'Tối ưu hóa', 'Computervision', 'Natural Language Processing', 'Học sâu', 'NNLT Python', 'Thể dục', 'Học Máy'}\n",
            "Ket qua phep giao giua A va B {'NNLT Python', 'Đại số tuyến tính'}\n",
            "Ket qua phep hieu A/B la {'Tiếng Anh chuyên ngành', 'Thể dục'}\n",
            "Ket qua phep hieu B/A la {'Recommender Systems', 'Natural Language Processing', 'Tối ưu hóa', 'Computervision', 'Học sâu', 'Học Máy'}\n",
            "Ket qua chuyen X thanh cau truc set {1, 2, 3, 4, 5, 6, 7}\n"
          ]
        }
      ],
      "source": [
        "A = set(['NNLT Python', 'Đại số tuyến tính', 'Tiếng Anh chuyên ngành', 'Thể dục'])\n",
        "B = set(['NNLT Python', 'Đại số tuyến tính', 'Tối ưu hóa', 'Học Máy', 'Học sâu', 'Computervision', 'Natural Language Processing', 'Recommender Systems' ])\n",
        "print(A)\n",
        "print(B)\n",
        "C=A.union(B)\n",
        "print('Ket qua phep hop A va B ',C)\n",
        "print('Ket qua phep giao giua A va B', A&B)\n",
        "print('Ket qua phep hieu A/B la',A-B)\n",
        "print('Ket qua phep hieu B/A la',B-A)\n",
        "X = [1, 1, 1, 2, 2, 3, 3 ,3, 4 ,5 ,6, 7]\n",
        "print('Ket qua chuyen X thanh cau truc set',set(X))"
      ]
    }
  ]
}