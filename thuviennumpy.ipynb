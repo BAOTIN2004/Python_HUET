{
  "nbformat": 4,
  "nbformat_minor": 0,
  "metadata": {
    "colab": {
      "provenance": [],
      "authorship_tag": "ABX9TyNiNVwlzMXRxCiwXzI3w9PS",
      "include_colab_link": true
    },
    "kernelspec": {
      "name": "python3",
      "display_name": "Python 3"
    },
    "language_info": {
      "name": "python"
    }
  },
  "cells": [
    {
      "cell_type": "markdown",
      "metadata": {
        "id": "view-in-github",
        "colab_type": "text"
      },
      "source": [
        "<a href=\"https://colab.research.google.com/github/BAOTIN2004/Python_HUET/blob/main/thuviennumpy.ipynb\" target=\"_parent\"><img src=\"https://colab.research.google.com/assets/colab-badge.svg\" alt=\"Open In Colab\"/></a>"
      ]
    },
    {
      "cell_type": "code",
      "execution_count": 2,
      "metadata": {
        "id": "pIkac_tQGvp8"
      },
      "outputs": [],
      "source": [
        "import numpy as np\n"
      ]
    },
    {
      "cell_type": "code",
      "source": [
        "v1=np.arange(-9,6,dtype=int)\n",
        "print(v1)"
      ],
      "metadata": {
        "colab": {
          "base_uri": "https://localhost:8080/"
        },
        "id": "K-1Qo8mHOaO0",
        "outputId": "228383f1-6a2c-4986-9e4a-2e307660fa92"
      },
      "execution_count": 16,
      "outputs": [
        {
          "output_type": "stream",
          "name": "stdout",
          "text": [
            "[-9 -8 -7 -6 -5 -4 -3 -2 -1  0  1  2  3  4  5]\n"
          ]
        }
      ]
    },
    {
      "cell_type": "code",
      "source": [
        "v1=np.linspace(1,10,20)\n",
        "print(v1)"
      ],
      "metadata": {
        "colab": {
          "base_uri": "https://localhost:8080/"
        },
        "id": "USjrDjvgPLor",
        "outputId": "7e5dfa36-6e17-47ce-da79-32aa38ddd885"
      },
      "execution_count": 15,
      "outputs": [
        {
          "output_type": "stream",
          "name": "stdout",
          "text": [
            "[ 1.          1.47368421  1.94736842  2.42105263  2.89473684  3.36842105\n",
            "  3.84210526  4.31578947  4.78947368  5.26315789  5.73684211  6.21052632\n",
            "  6.68421053  7.15789474  7.63157895  8.10526316  8.57894737  9.05263158\n",
            "  9.52631579 10.        ]\n"
          ]
        }
      ]
    },
    {
      "cell_type": "code",
      "source": [
        "from numpy import random\n",
        "v=np.random.randint(2,10,8)\n",
        "print(v)"
      ],
      "metadata": {
        "colab": {
          "base_uri": "https://localhost:8080/"
        },
        "id": "vtcX8c2EPuXZ",
        "outputId": "0dee690c-9ea0-4727-f0b7-8348ef954e45"
      },
      "execution_count": 20,
      "outputs": [
        {
          "output_type": "stream",
          "name": "stdout",
          "text": [
            "[9 5 5 4 2 3 6 2]\n"
          ]
        }
      ]
    },
    {
      "cell_type": "code",
      "source": [
        "v=np.random.uniform(-10,10,10)\n",
        "print(v)"
      ],
      "metadata": {
        "colab": {
          "base_uri": "https://localhost:8080/"
        },
        "id": "0tY-HZXDQnvN",
        "outputId": "fb3a6617-a6c5-4d0f-eb50-0d70f11cf562"
      },
      "execution_count": 21,
      "outputs": [
        {
          "output_type": "stream",
          "name": "stdout",
          "text": [
            "[-5.62741456  2.84845147 -0.61832818  3.37670811 -9.83014346 -2.54806194\n",
            "  0.54348099 -2.93015979 -2.88610857 -7.66837379]\n"
          ]
        }
      ]
    },
    {
      "cell_type": "code",
      "source": [
        "n=abs(int(input('Nhập n')))\n",
        "print(np.arange(3,3+n,dtype=int ))\n",
        "print(np.arange(2.7,2+n,dtype=float))\n",
        "print(np.random.randint(-9,10,n))\n",
        "print(np.random.uniform(-9,10,n))"
      ],
      "metadata": {
        "colab": {
          "base_uri": "https://localhost:8080/"
        },
        "id": "4nyDkZeVQ2Oj",
        "outputId": "e9e7bfc4-e89b-4736-acbf-1b7033a39764"
      },
      "execution_count": 28,
      "outputs": [
        {
          "output_type": "stream",
          "name": "stdout",
          "text": [
            "Nhập n6\n",
            "[3 4 5 6 7 8]\n",
            "[2.7 3.7 4.7 5.7 6.7 7.7]\n",
            "[-8 -6  4  0  8  4]\n",
            "[ 3.98921183 -3.78787834 -4.33246959 -3.41472637  1.84722826  4.32286865]\n"
          ]
        }
      ]
    },
    {
      "cell_type": "code",
      "source": [
        "v1=np.random.randint(-10,10,20)\n",
        "print(v1.shape)\n",
        "print(v1.ndim)"
      ],
      "metadata": {
        "colab": {
          "base_uri": "https://localhost:8080/"
        },
        "id": "nZeIGAy3TGWb",
        "outputId": "556c71d7-d285-4d4f-85b5-c0ac5add21b7"
      },
      "execution_count": 33,
      "outputs": [
        {
          "output_type": "stream",
          "name": "stdout",
          "text": [
            "(20,)\n",
            "1\n"
          ]
        }
      ]
    },
    {
      "cell_type": "code",
      "source": [
        "v=np.random.randint(-10,10,10)\n",
        "a=int(input('Nhap a '))\n",
        "print(a*v)"
      ],
      "metadata": {
        "colab": {
          "base_uri": "https://localhost:8080/"
        },
        "id": "5DbyW7TNThxg",
        "outputId": "f0eba2d5-b4c3-48f0-a426-05216ebef7d2"
      },
      "execution_count": 35,
      "outputs": [
        {
          "output_type": "stream",
          "name": "stdout",
          "text": [
            "Nhap a 9\n",
            "[-81 -63   0   0  -9 -18 -81 -72  72  -9]\n"
          ]
        }
      ]
    },
    {
      "cell_type": "code",
      "source": [
        "v=np.random.randint(-10,10,10)\n",
        "l=np.random.randint(-10,10,10)\n",
        "print(l+v)"
      ],
      "metadata": {
        "colab": {
          "base_uri": "https://localhost:8080/"
        },
        "id": "4ctCp0lTT1gX",
        "outputId": "6cae6012-8374-4ec6-9aed-5385d0345f5b"
      },
      "execution_count": 36,
      "outputs": [
        {
          "output_type": "stream",
          "name": "stdout",
          "text": [
            "[ -4  -6  16  -6  -4 -11  -5 -11  -1   0]\n"
          ]
        }
      ]
    },
    {
      "cell_type": "code",
      "source": [
        "v=np.random.randint(-10,10,10)\n",
        "l=np.random.randint(-10,10,10)\n",
        "print(np.dot(v,l))"
      ],
      "metadata": {
        "colab": {
          "base_uri": "https://localhost:8080/"
        },
        "id": "Ad7tJyugUDoF",
        "outputId": "9938c8ab-f80b-4368-f91c-1e9dc57c3efd"
      },
      "execution_count": 38,
      "outputs": [
        {
          "output_type": "stream",
          "name": "stdout",
          "text": [
            "126\n"
          ]
        }
      ]
    },
    {
      "cell_type": "code",
      "source": [
        "v=np.random.randint(-10,10,10)\n",
        "l=np.random.randint(-10,10,10)\n",
        "print(np.multiply(v,l))"
      ],
      "metadata": {
        "colab": {
          "base_uri": "https://localhost:8080/"
        },
        "id": "X8rmqdSwUXDG",
        "outputId": "cd462fc7-4b7a-4da3-b85a-6a76a560a3f8"
      },
      "execution_count": 39,
      "outputs": [
        {
          "output_type": "stream",
          "name": "stdout",
          "text": [
            "[-16   4  18  15  35   6   0   0  90 -10]\n"
          ]
        }
      ]
    }
  ]
}