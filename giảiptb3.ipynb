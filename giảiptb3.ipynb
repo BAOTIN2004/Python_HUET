{
  "nbformat": 4,
  "nbformat_minor": 0,
  "metadata": {
    "colab": {
      "provenance": [],
      "authorship_tag": "ABX9TyPkCU/vWpFXgC+MRsgHitoy",
      "include_colab_link": true
    },
    "kernelspec": {
      "name": "python3",
      "display_name": "Python 3"
    },
    "language_info": {
      "name": "python"
    }
  },
  "cells": [
    {
      "cell_type": "markdown",
      "metadata": {
        "id": "view-in-github",
        "colab_type": "text"
      },
      "source": [
        "<a href=\"https://colab.research.google.com/github/BAOTIN2004/Python_HUET/blob/main/gi%E1%BA%A3iptb3.ipynb\" target=\"_parent\"><img src=\"https://colab.research.google.com/assets/colab-badge.svg\" alt=\"Open In Colab\"/></a>"
      ]
    },
    {
      "cell_type": "code",
      "execution_count": 2,
      "metadata": {
        "id": "mbuTslLavPZh",
        "colab": {
          "base_uri": "https://localhost:8080/"
        },
        "outputId": "d524e82a-1e3e-4347-c31c-dd03f0fc1616"
      },
      "outputs": [
        {
          "output_type": "stream",
          "name": "stdout",
          "text": [
            "Phương trình vô số nghiệm\n",
            "Nghiệm x = 0.5\n",
            "Nghiệm của phương trình la x1 = 1.1861406616345072 ; x2 = -1.6861406616345072\n",
            "Phương trình có 1 nghiệm duy nhất: x =  -2.4327796492318803\n"
          ]
        }
      ],
      "source": [
        "def giai_pt_bac_1(a,b):\n",
        "    if a==0:\n",
        "        if b==0:\n",
        "            print('Phương trình vô số nghiệm')\n",
        "        else:\n",
        "            print('Phương trình vô nghiệm')\n",
        "    else:\n",
        "        x=-a/b\n",
        "        print('Nghiệm x =',x)\n",
        "\n",
        "from math import sqrt,acos,cos\n",
        "import math\n",
        "def giai_pt_bac_2(a,b,c):\n",
        "    if a==0:\n",
        "        giai_pt_bac_1(b,c)\n",
        "    else:\n",
        "        delta=b**2-4*a*c\n",
        "        if delta>=0:\n",
        "            x1=(-b+sqrt(delta))/(2*a)\n",
        "            x2=(-b-sqrt(delta))/(2*a)\n",
        "            print(\"Nghiệm của phương trình la x1 =\",x1,'; x2 =',x2)\n",
        "        elif delta==0:\n",
        "            print('Phương trình có nghiệm kép x =',-b/(2*a))\n",
        "        else:\n",
        "            print('Phương trình vô nghiệm')\n",
        "\n",
        "def giai_pt_b3(a,b,c,d):\n",
        "    if a==0:\n",
        "        giai_pt_bac_2(b,c,d)\n",
        "    else:\n",
        "        AltDelta = (b ** 2) - (3 * a * c)\n",
        "        if AltDelta > 0:\n",
        "            k = (9 * a * b * c - 2 * b ** 3 - 27 * a ** 2 * d) / (2 * sqrt(abs(AltDelta) ** 3))\n",
        "            if abs(k) <= 1:\n",
        "                x1 = (2 * sqrt(AltDelta) * cos(acos(k) / 3) - b) / (3 * a)\n",
        "                x2 = (2 * sqrt(AltDelta) * cos(acos(k) / 3 - 2 * pi / 3) - b) / (3 * a)\n",
        "                x3 = (2 * sqrt(AltDelta) * cos(acos(k) / 3 + 2 * pi / 3) - b) / (3 * a)\n",
        "                print(\"Phương trình có 3 nghiệm:\")\n",
        "                print(\"x1 = \", x1)\n",
        "                print(\"x2 = \", x2)\n",
        "                print(\"x3 = \", x3)\n",
        "            else:\n",
        "                x = ((sqrt(AltDelta) * abs(k)) / (3 * a * k)) * (\n",
        "                            (abs(k) + sqrt((k ** 2) - 1)) ** (1 / 3) + (abs(k) - sqrt((k ** 2) - 1)) ** (1 / 3)) - (\n",
        "                                b / (3 * a))\n",
        "                print(\"Phương trình có 1 nghiệm duy nhất: x = \", x)\n",
        "\n",
        "        else:\n",
        "            if AltDelta == 0:\n",
        "                x = (-b + (b ** 3 - 27 * a ** 2 * d) ** 1 / 3) / 3 * a\n",
        "                print(\"Phương trình có 1 nghiệm bội: x = \", x)\n",
        "            else:\n",
        "                k = (9 * a * b * c - 2 * b ** 3 - 27 * a ** 2 * d) / (2 * sqrt(abs(AltDelta) ** 3))\n",
        "                x = (sqrt(abs(AltDelta)) / (3 * a)) * (\n",
        "                            (k + sqrt((k ** 2) + 1)) ** (1 / 3) + -abs((k - sqrt((k ** 2) + 1))) ** (1 / 3)) - (\n",
        "                                b / (3 * a))\n",
        "                print(\"Phương trình có 1 nghiệm duy nhất: x = \", x)\n",
        "def main():\n",
        "    giai_pt_b3(0,0,0,0)\n",
        "    giai_pt_b3(0,0,-2,4)\n",
        "    giai_pt_b3(0,2,1,-4)\n",
        "    giai_pt_b3(4,7,-5,4)\n",
        "if __name__== \"__main__\":\n",
        "    main()"
      ]
    }
  ]
}