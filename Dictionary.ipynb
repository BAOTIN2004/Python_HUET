{
  "nbformat": 4,
  "nbformat_minor": 0,
  "metadata": {
    "colab": {
      "provenance": [],
      "authorship_tag": "ABX9TyPYjPchdKTzOkEWV0YPHP3S",
      "include_colab_link": true
    },
    "kernelspec": {
      "name": "python3",
      "display_name": "Python 3"
    },
    "language_info": {
      "name": "python"
    }
  },
  "cells": [
    {
      "cell_type": "markdown",
      "metadata": {
        "id": "view-in-github",
        "colab_type": "text"
      },
      "source": [
        "<a href=\"https://colab.research.google.com/github/BAOTIN2004/Python_HUET/blob/main/Dictionary.ipynb\" target=\"_parent\"><img src=\"https://colab.research.google.com/assets/colab-badge.svg\" alt=\"Open In Colab\"/></a>"
      ]
    },
    {
      "cell_type": "code",
      "execution_count": 1,
      "metadata": {
        "colab": {
          "base_uri": "https://localhost:8080/"
        },
        "id": "dJmqJQaevbke",
        "outputId": "538da332-d56f-44bd-842a-979612c5b338"
      },
      "outputs": [
        {
          "output_type": "stream",
          "name": "stdout",
          "text": [
            "Bai 1:\n",
            "In ra màn hình phần tử của d có giá trị key là ‘producer’: Dell\n",
            "In ra màn hình toàn bộ phần tử của d: {'producer': 'Dell', 'model': 'Inspiron', 'year': 2017}\n",
            "Bai 2\n",
            "In ra màn hình phần tử của e có giá trị key là \"colors\": ['red', 'white', 'blue']\n",
            "In toàn bộ phần tử của e ra man hinh: {'producer': 'Google Inc', 'model': 'Inspiron', 'year': 2017, 'colors': ['red', 'white', 'blue']}\n",
            "Bai 3:\n",
            "Cau e o ding dang json: {\"producer\": \"Google Inc\", \"model\": \"Inspiron\", \"year\": 2017, \"colors\": [\"red\", \"white\", \"blue\"]}\n",
            "Bài 4:\n",
            "Bai 4.1: {\"current_user_url\": \"https://api.github.com/user\", \"current_user_authorizations_html_url\": \"https://github.com/settings/connections/applications{/client_id}\", \"authorizations_url\": \"https://api.github.com/authorizations\", \"code_search_url\": \"https://api.github.com/search/code?q={query}{&page,per_page,sort,order}\", \"commit_search_url\": \"https://api.github.com/search/commits?q={query}{&page,per_page,sort,order}\", \"emails_url\": \"https://api.github.com/user/emails\", \"emojis_url\": \"https://api.github.com/emojis\", \"events_url\": \"https://api.github.com/events\", \"feeds_url\": \"https://api.github.com/feeds\", \"followers_url\": \"https://api.github.com/user/followers\", \"following_url\": \"https://api.github.com/user/following{/target}\", \"gists_url\": \"https://api.github.com/gists{/gist_id}\", \"hub_url\": \"https://api.github.com/hub\", \"issue_search_url\": \"https://api.github.com/search/issues?q={query}{&page,per_page,sort,order}\", \"issues_url\": \"https://api.github.com/issues\", \"keys_url\": \"https://api.github.com/user/keys\", \"label_search_url\": \"https://api.github.com/search/labels?q={query}&repository_id={repository_id}{&page,per_page}\", \"notifications_url\": \"https://api.github.com/notifications\", \"organization_url\": \"https://api.github.com/orgs/{org}\", \"organization_repositories_url\": \"https://api.github.com/orgs/{org}/repos{?type,page,per_page,sort}\", \"organization_teams_url\": \"https://api.github.com/orgs/{org}/teams\", \"public_gists_url\": \"https://api.github.com/gists/public\", \"rate_limit_url\": \"https://api.github.com/rate_limit\", \"repository_url\": \"https://api.github.com/repos/{owner}/{repo}\", \"repository_search_url\": \"https://api.github.com/search/repositories?q={query}{&page,per_page,sort,order}\", \"current_user_repositories_url\": \"https://api.github.com/user/repos{?type,page,per_page,sort}\", \"starred_url\": \"https://api.github.com/user/starred{/owner}{/repo}\", \"starred_gists_url\": \"https://api.github.com/gists/starred\", \"topic_search_url\": \"https://api.github.com/search/topics?q={query}{&page,per_page}\", \"user_url\": \"https://api.github.com/users/{user}\", \"user_organizations_url\": \"https://api.github.com/user/orgs\", \"user_repositories_url\": \"https://api.github.com/users/{user}/repos{?type,page,per_page,sort}\", \"user_search_url\": \"https://api.github.com/search/users?q={query}{&page,per_page,sort,order}\"}\n",
            "Bai 4.2: {'current_user_url': 'https://api.github.com/user', 'current_user_authorizations_html_url': 'https://github.com/settings/connections/applications{/client_id}', 'authorizations_url': 'https://api.github.com/authorizations', 'code_search_url': 'https://api.github.com/search/code?q={query}{&page,per_page,sort,order}', 'commit_search_url': 'https://api.github.com/search/commits?q={query}{&page,per_page,sort,order}', 'emails_url': 'https://api.github.com/user/emails', 'emojis_url': 'https://api.github.com/emojis', 'events_url': 'https://api.github.com/events', 'feeds_url': 'https://api.github.com/feeds', 'followers_url': 'https://api.github.com/user/followers', 'following_url': 'https://api.github.com/user/following{/target}', 'gists_url': 'https://api.github.com/gists{/gist_id}', 'hub_url': 'https://api.github.com/hub', 'issue_search_url': 'https://api.github.com/search/issues?q={query}{&page,per_page,sort,order}', 'issues_url': 'https://api.github.com/issues', 'keys_url': 'https://api.github.com/user/keys', 'label_search_url': 'https://api.github.com/search/labels?q={query}&repository_id={repository_id}{&page,per_page}', 'notifications_url': 'https://api.github.com/notifications', 'organization_url': 'https://api.github.com/orgs/{org}', 'organization_repositories_url': 'https://api.github.com/orgs/{org}/repos{?type,page,per_page,sort}', 'organization_teams_url': 'https://api.github.com/orgs/{org}/teams', 'public_gists_url': 'https://api.github.com/gists/public', 'rate_limit_url': 'https://api.github.com/rate_limit', 'repository_url': 'https://api.github.com/repos/{owner}/{repo}', 'repository_search_url': 'https://api.github.com/search/repositories?q={query}{&page,per_page,sort,order}', 'current_user_repositories_url': 'https://api.github.com/user/repos{?type,page,per_page,sort}', 'starred_url': 'https://api.github.com/user/starred{/owner}{/repo}', 'starred_gists_url': 'https://api.github.com/gists/starred', 'topic_search_url': 'https://api.github.com/search/topics?q={query}{&page,per_page}', 'user_url': 'https://api.github.com/users/{user}', 'user_organizations_url': 'https://api.github.com/user/orgs', 'user_repositories_url': 'https://api.github.com/users/{user}/repos{?type,page,per_page,sort}', 'user_search_url': 'https://api.github.com/search/users?q={query}{&page,per_page,sort,order}'}\n"
          ]
        }
      ],
      "source": [
        "d={\"producer\": \"Dell\",\n",
        "\"model\": \"Inspiron\",\n",
        "\"year\": 2017}\n",
        "print('Bai 1:')\n",
        "print('In ra màn hình phần tử của d có giá trị key là ‘producer’:',d[\"producer\"])\n",
        "print('In ra màn hình toàn bộ phần tử của d:',d)\n",
        "print('Bai 2')\n",
        "e = {\n",
        "\"producer\": \"Dell\",\n",
        "\"model\": 'Inspiron',\n",
        "\"year\": 2017,\n",
        "\"colors\": [\"red\", \"white\", \"blue\"]\n",
        "}\n",
        "print('In ra màn hình phần tử của e có giá trị key là \"colors\":',e['colors'])\n",
        "e[\"producer\"]='Google Inc'\n",
        "print('In toàn bộ phần tử của e ra man hinh:',e)\n",
        "import json\n",
        "print('Bai 3:\\nCau e o ding dang json:',json.dumps(e))\n",
        "from urllib.request import urlopen\n",
        "print('Bài 4:')  \n",
        "link = \"https://api.github.com/\"\n",
        "mo=urlopen(link)\n",
        "mo2 = json.loads(mo.read()) #dic \n",
        "mo3=json.dumps(mo2)\n",
        "print(\"Bai 4.1:\",mo3)\n",
        "print('Bai 4.2:',mo2)"
      ]
    }
  ]
}