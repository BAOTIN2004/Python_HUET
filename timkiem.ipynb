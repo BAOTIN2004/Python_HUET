{
  "nbformat": 4,
  "nbformat_minor": 0,
  "metadata": {
    "colab": {
      "provenance": [],
      "authorship_tag": "ABX9TyPb9OgKdddMWQrqHFC4A5qF",
      "include_colab_link": true
    },
    "kernelspec": {
      "name": "python3",
      "display_name": "Python 3"
    },
    "language_info": {
      "name": "python"
    }
  },
  "cells": [
    {
      "cell_type": "markdown",
      "metadata": {
        "id": "view-in-github",
        "colab_type": "text"
      },
      "source": [
        "<a href=\"https://colab.research.google.com/github/BAOTIN2004/Python_HUET/blob/main/timkiem.ipynb\" target=\"_parent\"><img src=\"https://colab.research.google.com/assets/colab-badge.svg\" alt=\"Open In Colab\"/></a>"
      ]
    },
    {
      "cell_type": "code",
      "execution_count": 1,
      "metadata": {
        "colab": {
          "base_uri": "https://localhost:8080/"
        },
        "id": "xTCEvAUW6f55",
        "outputId": "d5e37db9-4e47-4dc6-f362-942687c273d4"
      },
      "outputs": [
        {
          "output_type": "stream",
          "name": "stdout",
          "text": [
            "2\n",
            "None\n",
            "2\n",
            "[3, 7]\n"
          ]
        }
      ],
      "source": [
        "def timvitridautien(v,n):\n",
        "    v1=v.copy()\n",
        "    for i in range(len(v1)):\n",
        "        if v1[i]==n:\n",
        "            return i\n",
        "    return None\n",
        "        \n",
        "def timvitricuoicung(v,n):\n",
        "    v1=v.copy()\n",
        "    for i in range(len(v)-1,-1,-1):\n",
        "        if v1[i]==n:\n",
        "            return i\n",
        "    return None\n",
        "    \n",
        "def demphantu(v,n):\n",
        "    dem=0\n",
        "    for i in range(len(v)):\n",
        "        if v[i]==n:\n",
        "            dem+=1\n",
        "    return dem\n",
        "    \n",
        "def lietkephantu(v,n):\n",
        "    x=[]\n",
        "    for i in range(len(v)):\n",
        "        if v[i]==n: x.append(i)\n",
        "    return x\n",
        "    \n",
        "def main():\n",
        "    print(timvitridautien([2,4,1,6,7,-9,5,6,4,2,5],1))\n",
        "    print(timvitricuoicung([2,4,1,6,7,-9,5,6,4,2,5],10))\n",
        "    print(demphantu([2,4,1,6,7,-9,5,6,4,2,5],2))\n",
        "    print(lietkephantu([2,4,1,6,7,-9,5,6,4,2,5],6)) \n",
        "if __name__== \"__main__\":\n",
        "    main()\n",
        "    \n",
        "    \n",
        "    "
      ]
    }
  ]
}