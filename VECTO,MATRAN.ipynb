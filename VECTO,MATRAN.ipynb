{
  "nbformat": 4,
  "nbformat_minor": 0,
  "metadata": {
    "colab": {
      "provenance": [],
      "authorship_tag": "ABX9TyMl7Kr7kWzJr+z+Nndv2JxH",
      "include_colab_link": true
    },
    "kernelspec": {
      "name": "python3",
      "display_name": "Python 3"
    },
    "language_info": {
      "name": "python"
    }
  },
  "cells": [
    {
      "cell_type": "markdown",
      "metadata": {
        "id": "view-in-github",
        "colab_type": "text"
      },
      "source": [
        "<a href=\"https://colab.research.google.com/github/BAOTIN2004/Python_HUET/blob/main/VECTO%2CMATRAN.ipynb\" target=\"_parent\"><img src=\"https://colab.research.google.com/assets/colab-badge.svg\" alt=\"Open In Colab\"/></a>"
      ]
    },
    {
      "cell_type": "code",
      "execution_count": 2,
      "metadata": {
        "colab": {
          "base_uri": "https://localhost:8080/"
        },
        "id": "7MtG0mSJSyiD",
        "outputId": "3ea8e5c8-e969-4205-a0eb-c95f4caaba85"
      },
      "outputs": [
        {
          "output_type": "stream",
          "name": "stdout",
          "text": [
            "3\n",
            "5\n",
            "4\n",
            "6\n",
            "7\n",
            "2\n",
            "9\n",
            "Bai 1: [3, 5, 4, 6, 7, 2, 9]\n",
            "Bai 2: [10, 10, -1, -3, -7, 8, 0, 3, -1, -5, -10, -9, 2, 1, 6, -5, -8, 8, -7, -8, 1, 10, 4, 5, -2, 4, 3, -2, 0, 10]\n",
            "Bai 3: [-5.500226727470717, 3.034408264734062, 3.6373441324697824, 1.1966916705834105, -0.35755004336332874, 4.7018786584201875, -5.503045181284684, -4.319767597226175, 5.342244515221943, -5.59754709003489, 1.5586957665716614, 6.72683995258923, 1.3237914596051858, 2.798165813667004, 5.653081371965656, -2.5614068845028446, -1.3346437547440129, -4.171110243832102, 1.8094852376588166, 0.9006481695403723, -3.1902491338296195, 1.1456010445973401, 1.9325898730855942, 1.6525120462219878, -0.10281592228227243, 2.001056449867095, -5.080181196492368, 2.0754775590101984, -2.6820874965026014, 5.026134154345075]\n",
            "Bai 4: [ -4  -4  -8  20  -8  -4  12 -20  -8  -4]\n",
            "Bai 5: (array([ 8,  1, -2,  0, -3, -3,  0, -2,  3,  7, -1, -1, -4,  2,  4]), array([ 2,  1, -2, 10,  1, -7,  0,  6, -5, -1,  7,  9, -6,  6,  4]))\n",
            "Bai 6: [ -5  -4  12   3   9  -6   0 -10 -10  -3]\n",
            "Bai 7: -24\n",
            "Bai 8:\n",
            " (array([[ 1,  0, -2, -4,  0],\n",
            "       [-2, -1,  2,  0,  3],\n",
            "       [-4,  4,  5, -5, -1]]), 2)\n",
            "Bai 9:\n",
            " [[ -8 -10   2   2   8]\n",
            " [ -4  -4   6  -6   8]\n",
            " [ -6  -4   6  -4  -2]]\n",
            "Bai 10:\n",
            " [[-8  3 -4  5 -5]\n",
            " [ 7  0 -2  1  4]\n",
            " [-1 -3 -6 -4 -9]]\n",
            "Bai 11:\n",
            " [[  1  -7   6 -16  -1]\n",
            " [  9  -8  23 -21 -21]\n",
            " [ 12 -19  20 -12  10]]\n"
          ]
        }
      ],
      "source": [
        "from numpy import random \n",
        "import numpy as np \n",
        "\n",
        "def bai_1(n):\n",
        "    x=[]\n",
        "    for i in range(n):\n",
        "        x.append(int(input()))  \n",
        "    return x\n",
        "\n",
        "def bai_2(n):\n",
        "    x=[random.randint(-10,11) for i in range(n)]\n",
        "    return x\n",
        "\n",
        "def bai_3(n):\n",
        "    x=[random.uniform(-5.7,6.9) for i in range(n)]\n",
        "    return x \n",
        "\n",
        "def bai_4(n,a):\n",
        "    x=np.random.randint(low=-5,high=6,size=n)\n",
        "    return x*a\n",
        "\n",
        "def bai_5(n):\n",
        "    x=np.random.randint(low=-5,high=6,size=n)\n",
        "    y=np.random.randint(low=-5,high=6,size=n)\n",
        "    return (x+y),(x-y)\n",
        "\n",
        "def bai_6(n):\n",
        "    x=np.random.randint(low=-5,high=6,size=n)\n",
        "    y=np.random.randint(low=-5,high=6,size=n)\n",
        "    z=np.multiply(x,y)\n",
        "    return  z\n",
        "\n",
        "def bai_7(n):\n",
        "    x=np.random.randint(low=-5,high=6,size=n)\n",
        "    y=np.random.randint(low=-5,high=6,size=n)\n",
        "    return  np.dot(x,y)\n",
        "\n",
        "def bai_8(m,n):\n",
        "    A=np.random.randint(low=-5,high=6,size=(m,n))\n",
        "    return A,A[1][2]\n",
        "\n",
        "def bai_9(a,m,n):\n",
        "    A=np.random.randint(low=-5,high=6,size=(m,n))\n",
        "    return A*a\n",
        "    \n",
        "def bai_10(m,n):\n",
        "    A=np.random.randint(low=-5,high=6,size=(m,n))\n",
        "    B=np.random.randint(low=-5,high=6,size=(m,n))\n",
        "    return   A+B\n",
        "\n",
        "def bai_11(m,n,p,q):\n",
        "    A=np.random.randint(low=-5,high=6,size=(m,n))\n",
        "    B=np.random.randint(low=-5,high=6,size=(p,q))\n",
        "    return  A@B\n",
        "\n",
        "def main():\n",
        "    print('Bai 1:',bai_1(7))\n",
        "    print('Bai 2:',bai_2(30))\n",
        "    print('Bai 3:',bai_3(30))\n",
        "    print('Bai 4:',bai_4(10,4))\n",
        "    print('Bai 5:',bai_5(15))\n",
        "    print('Bai 6:',bai_6(10))\n",
        "    print('Bai 7:',bai_7(10))\n",
        "    print('Bai 8:\\n',bai_8(3,5))\n",
        "    print('Bai 9:\\n',bai_9(2,3,5))\n",
        "    print('Bai 10:\\n',bai_10(3,5))\n",
        "    print('Bai 11:\\n',bai_11(3,4,4,5))\n",
        "if __name__==\"__main__\":\n",
        "    main()"
      ]
    }
  ]
}